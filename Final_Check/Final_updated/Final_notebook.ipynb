{
 "cells": [
  {
   "cell_type": "code",
   "execution_count": 1,
   "id": "9fe3f53a-3af1-4a31-a233-598adef7be21",
   "metadata": {},
   "outputs": [],
   "source": [
    "import json_filter_utils_updated_final as abcd\n",
    "import json\n",
    "import re\n",
    "def read_json_from_file(file_path):\n",
    "    with open(file_path, 'r') as file:\n",
    "        return json.load(file)\n",
    "def save_json_to_file(data, filename):\n",
    "    with open(filename, \"w\") as f:\n",
    "        json.dump(data, f,separators=(',', ':'))"
   ]
  },
  {
   "cell_type": "code",
   "execution_count": 4,
   "id": "0144f4a8-8cca-44e7-a78b-963b87da12a0",
   "metadata": {},
   "outputs": [],
   "source": [
    "json1_f_start = read_json_from_file('../Comparing_New/final_odbstart.json')\n",
    "json_after_cut1 = abcd.filter_and_clean_json(json1_f_start)\n",
    "save_json_to_file(json_after_cut1, \"Final_Size_Start_ODB.JSON\")"
   ]
  },
  {
   "cell_type": "code",
   "execution_count": null,
   "id": "4bb34a46-a701-4076-b02a-fe1342e9ddb7",
   "metadata": {},
   "outputs": [],
   "source": [
    "import matplotlib.pyplot as plt\n",
    "import matplotlib.image as mpimg\n",
    "img = mpimg.imread(\"final_Start_ODB.png\")\n",
    "plt.figure(figsize=(12, 8))  #\n",
    "plt.imshow(img)\n",
    "plt.axis(\"off\")  # hide axes\n",
    "plt.show()\n",
    "#just one detector was turn on!"
   ]
  },
  {
   "cell_type": "code",
   "execution_count": 5,
   "id": "5ec3e6dd-36bb-4347-99b1-2c7e3f667d93",
   "metadata": {},
   "outputs": [],
   "source": [
    "json1_f_start = read_json_from_file('../Comparing_New/final_odbstop.json')\n",
    "json_after_cut1 = abcd.filter_and_clean_json(json1_f_start)\n",
    "save_json_to_file(json_after_cut1, \"Final_Size_END_ODB.JSON\")"
   ]
  },
  {
   "cell_type": "code",
   "execution_count": null,
   "id": "8f7d86bb-d6e5-416c-ae08-4d3c3479037c",
   "metadata": {},
   "outputs": [],
   "source": [
    "import matplotlib.pyplot as plt\n",
    "import matplotlib.image as mpimg\n",
    "img = mpimg.imread(\"final_Start_ODB.png\")\n",
    "plt.figure(figsize=(12, 8))  #\n",
    "plt.imshow(img)\n",
    "plt.axis(\"off\")  # hide axes\n",
    "plt.show()\n",
    "#just one detector was turn on!"
   ]
  }
 ],
 "metadata": {
  "kernelspec": {
   "display_name": "Python 3 (ipykernel)",
   "language": "python",
   "name": "python3"
  },
  "language_info": {
   "codemirror_mode": {
    "name": "ipython",
    "version": 3
   },
   "file_extension": ".py",
   "mimetype": "text/x-python",
   "name": "python",
   "nbconvert_exporter": "python",
   "pygments_lexer": "ipython3",
   "version": "3.9.21"
  }
 },
 "nbformat": 4,
 "nbformat_minor": 5
}
