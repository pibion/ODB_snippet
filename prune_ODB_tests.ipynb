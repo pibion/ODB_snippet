{
 "cells": [
  {
   "cell_type": "code",
   "execution_count": 1,
   "id": "4fe29b8f",
   "metadata": {},
   "outputs": [],
   "source": [
    "import json"
   ]
  },
  {
   "cell_type": "code",
   "execution_count": 24,
   "id": "2dca4bd0",
   "metadata": {},
   "outputs": [],
   "source": [
    "with open('abcend (1).json', 'r') as file:\n",
    "    data = json.load(file)"
   ]
  },
  {
   "cell_type": "code",
   "execution_count": 5,
   "id": "6abdeb6a",
   "metadata": {},
   "outputs": [],
   "source": [
    "#print(data)"
   ]
  },
  {
   "cell_type": "code",
   "execution_count": 15,
   "id": "bad5102f",
   "metadata": {},
   "outputs": [],
   "source": [
    "def remove_keys_with_pattern(d, pattern=\"/key\"):\n",
    "    # Create a new dictionary to store the filtered results\n",
    "    new_dict = {}\n",
    "    \n",
    "    for k, v in d.items():\n",
    "        # If the key does not contain the pattern, add it to the new dictionary\n",
    "        if pattern not in k:\n",
    "            if isinstance(v, dict):\n",
    "                # Recursively apply the function if the value is a dictionary\n",
    "                new_dict[k] = remove_keys_with_pattern(v, pattern)\n",
    "            else:\n",
    "                # Otherwise, just add the key-value pair\n",
    "                new_dict[k] = v\n",
    "    \n",
    "    return new_dict"
   ]
  },
  {
   "cell_type": "code",
   "execution_count": 25,
   "id": "cd710f9c",
   "metadata": {},
   "outputs": [],
   "source": [
    "filtered_data = remove_keys_with_pattern(data, pattern=\"/key\")"
   ]
  },
  {
   "cell_type": "code",
   "execution_count": 26,
   "id": "748941b9",
   "metadata": {},
   "outputs": [
    {
     "name": "stdout",
     "output_type": "stream",
     "text": [
      "Dictionary has been written to no_key_entries.json\n"
     ]
    }
   ],
   "source": [
    "# Specify the filename\n",
    "filename = 'no_key_entries.json'\n",
    "\n",
    "# Open the file in write mode and write the dictionary to the file in JSON format\n",
    "with open(filename, 'w') as file:\n",
    "    json.dump(filtered_data, file, separators=(',', ':'))\n",
    "\n",
    "print(f'Dictionary has been written to {filename}')"
   ]
  },
  {
   "cell_type": "code",
   "execution_count": 27,
   "id": "e7a66054",
   "metadata": {},
   "outputs": [
    {
     "name": "stdout",
     "output_type": "stream",
     "text": [
      "Dictionary has been written to no_key_entries_no_System_Buffers.json\n"
     ]
    }
   ],
   "source": [
    "filtered_data_no_system_buffer = filtered_data['System'].pop('Buffers', None)\n",
    "\n",
    "# Specify the filename\n",
    "filename = 'no_key_entries_no_System_Buffers.json'\n",
    "\n",
    "# Open the file in write mode and write the dictionary to the file in JSON format\n",
    "with open(filename, 'w') as file:\n",
    "    json.dump(filtered_data_no_system_buffer, file, separators=(',', ':'))\n",
    "\n",
    "print(f'Dictionary has been written to {filename}')"
   ]
  },
  {
   "cell_type": "code",
   "execution_count": null,
   "id": "19842a81",
   "metadata": {},
   "outputs": [],
   "source": []
  },
  {
   "cell_type": "code",
   "execution_count": null,
   "id": "e039fb5f",
   "metadata": {},
   "outputs": [],
   "source": []
  }
 ],
 "metadata": {
  "kernelspec": {
   "display_name": "Python 3 (ipykernel)",
   "language": "python",
   "name": "python3"
  },
  "language_info": {
   "codemirror_mode": {
    "name": "ipython",
    "version": 3
   },
   "file_extension": ".py",
   "mimetype": "text/x-python",
   "name": "python",
   "nbconvert_exporter": "python",
   "pygments_lexer": "ipython3",
   "version": "3.9.12"
  }
 },
 "nbformat": 4,
 "nbformat_minor": 5
}
